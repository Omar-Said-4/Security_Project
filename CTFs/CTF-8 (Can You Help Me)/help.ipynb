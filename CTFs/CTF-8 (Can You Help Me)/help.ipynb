{
 "cells": [
  {
   "cell_type": "code",
   "execution_count": 5,
   "metadata": {},
   "outputs": [],
   "source": [
    "import matplotlib.pyplot as plt\n",
    "import numpy as np\n",
    "from scipy.io import wavfile\n",
    "from pydub import AudioSegment\n",
    "import librosa.display\n",
    "from scipy.signal import butter, sosfiltfilt\n",
    "import soundfile as sf\n",
    "%matplotlib qt"
   ]
  },
  {
   "cell_type": "code",
   "execution_count": 6,
   "metadata": {},
   "outputs": [],
   "source": [
    "def view_audio_file(audio_file):\n",
    "    # Load audio file\n",
    "    audio, sr = librosa.load(audio_file, sr=None)\n",
    "\n",
    "    # Calculate time array\n",
    "    time = np.arange(0, len(audio))*1000 / sr\n",
    "\n",
    "    # Plot waveform\n",
    "    plt.figure(figsize=(10, 4))\n",
    "    plt.plot(time, audio)\n",
    "    plt.xlabel('Time (ms)')\n",
    "    plt.ylabel('Amplitude')\n",
    "    plt.title('Audio Waveform')\n",
    "    plt.show()"
   ]
  },
  {
   "cell_type": "code",
   "execution_count": 7,
   "metadata": {},
   "outputs": [],
   "source": [
    "audio_file = 'lastcall.wav'\n",
    "view_audio_file(audio_file)"
   ]
  }
 ],
 "metadata": {
  "kernelspec": {
   "display_name": "Python 3",
   "language": "python",
   "name": "python3"
  },
  "language_info": {
   "codemirror_mode": {
    "name": "ipython",
    "version": 3
   },
   "file_extension": ".py",
   "mimetype": "text/x-python",
   "name": "python",
   "nbconvert_exporter": "python",
   "pygments_lexer": "ipython3",
   "version": "3.11.4"
  }
 },
 "nbformat": 4,
 "nbformat_minor": 2
}
