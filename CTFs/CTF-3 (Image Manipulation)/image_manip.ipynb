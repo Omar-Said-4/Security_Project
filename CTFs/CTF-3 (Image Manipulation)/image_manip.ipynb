{
 "cells": [
  {
   "cell_type": "code",
   "execution_count": 97,
   "metadata": {},
   "outputs": [],
   "source": [
    "import matplotlib.pyplot as plt\n",
    "import numpy as np\n",
    "import pandas as pd\n",
    "import seaborn as sns\n",
    "import cv2\n"
   ]
  },
  {
   "cell_type": "code",
   "execution_count": 98,
   "metadata": {},
   "outputs": [],
   "source": [
    "image1=cv2.imread('first.png')\n",
    "image2=cv2.imread('second.png')\n",
    "b1, g1, r1 = cv2.split(image1)\n",
    "b2, g2, r2 = cv2.split(image2)\n",
    "\n",
    "\n",
    "badded=(b1+b2)\n",
    "gadded=(g1+g2)\n",
    "radded=(r1+r2)\n",
    "added=cv2.merge((badded,gadded,radded))\n",
    "cv2.imwrite('added.png',added)\n",
    "cv2.imshow('added',added)\n",
    "cv2.waitKey(0)\n",
    "cv2.destroyAllWindows()\n",
    "\n"
   ]
  }
 ],
 "metadata": {
  "kernelspec": {
   "display_name": "Python 3",
   "language": "python",
   "name": "python3"
  },
  "language_info": {
   "codemirror_mode": {
    "name": "ipython",
    "version": 3
   },
   "file_extension": ".py",
   "mimetype": "text/x-python",
   "name": "python",
   "nbconvert_exporter": "python",
   "pygments_lexer": "ipython3",
   "version": "3.11.4"
  }
 },
 "nbformat": 4,
 "nbformat_minor": 2
}
