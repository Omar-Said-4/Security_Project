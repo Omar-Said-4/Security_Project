{
 "cells": [
  {
   "cell_type": "code",
   "execution_count": 192,
   "metadata": {},
   "outputs": [],
   "source": [
    "import string\n",
    "from itertools import product\n"
   ]
  },
  {
   "cell_type": "code",
   "execution_count": 193,
   "metadata": {},
   "outputs": [],
   "source": [
    "START = ord(\"a\")\n",
    "CHARSET = string.ascii_lowercase[:16]\n",
    "COMPLETE_SET=string.ascii_lowercase"
   ]
  },
  {
   "cell_type": "code",
   "execution_count": 194,
   "metadata": {},
   "outputs": [],
   "source": [
    "def encode_b16(plain):\n",
    "\tencoded = \"\"\n",
    "\tfor c in plain:\n",
    "\t\tbinary = \"{0:08b}\".format(ord(c))\n",
    "\t\tencoded += (CHARSET[int(binary[:4], 2)] + CHARSET[int(binary[4:], 2)])\n",
    "\treturn encoded\n",
    "\n",
    "def caesar_shift(c, k):\n",
    "\treturn CHARSET[(ord(c) + ord(k) - 2 * START) % len(CHARSET)]"
   ]
  },
  {
   "cell_type": "code",
   "execution_count": 195,
   "metadata": {},
   "outputs": [],
   "source": [
    "def decode_b16(encoded):\n",
    "    decoded = \"\"\n",
    "    for i in range(0, len(encoded), 2):\n",
    "        first_char = encoded[i]\n",
    "        second_char = encoded[i + 1]\n",
    "        first_index = CHARSET.index(first_char)\n",
    "        second_index = CHARSET.index(second_char)\n",
    "        first_binary = \"{0:04b}\".format(first_index)\n",
    "        second_binary = \"{0:04b}\".format(second_index)\n",
    "        binary = first_binary + second_binary\n",
    "        decoded += chr(int(binary, 2))\n",
    "    return decoded"
   ]
  },
  {
   "cell_type": "code",
   "execution_count": 196,
   "metadata": {},
   "outputs": [],
   "source": [
    "def caesar_inverse_shift(c, k):\n",
    "\treturn CHARSET[(CHARSET.index(c) - 1 - ord(k) + 2 * START) % len(CHARSET)]"
   ]
  },
  {
   "cell_type": "code",
   "execution_count": 199,
   "metadata": {},
   "outputs": [
    {
     "name": "stdout",
     "output_type": "stream",
     "text": [
      "secretkey\n"
     ]
    }
   ],
   "source": [
    "test=\"jhigkgbgohlghpjplb\"\n",
    "key = \"secretkey\"\n",
    "dec=\"\"\n",
    "for i, c in enumerate(test):\n",
    "\tdec += caesar_inverse_shift(c, key[i % len(key)])\n",
    "print(decode_b16(dec))"
   ]
  },
  {
   "cell_type": "code",
   "execution_count": 202,
   "metadata": {},
   "outputs": [
    {
     "name": "stdout",
     "output_type": "stream",
     "text": [
      "¬©d©¢©¡­©·d¥¶©d¡¥¯­¢«d¥d¡£º©bd©d¢©©¨d¸£d¥§¸dª¥·¸b\n",
      "S¦S¥SSS©QSSS§S§S¦§Q\n",
      "vBBBBB@ByBBBB@\n",
      "eyv1vv~zv1rv1~r|zx1r1~pv?1hv1vvu1p1rt1wr?\n",
      "The enemies are making a move. We need to act fast.\n",
      "CWT\u001fT]T\\XTb\u001fPaT\u001f\\PZX]V\u001fP\u001f\\^eT\u001d\u001fFT\u001f]TTS\u001fc^\u001fPRc\u001fUPbc\u001d\n",
      "2FC\u000eCLCKGCQ\u000eOPC\u000eKOIGLE\u000eO\u000eKMTC\f\u000e5C\u000eLCCB\u000eRM\u000eOAR\u000eDOQR\f\n",
      "!52ý2;2:62@ý>O2ý:>86;4ý>ý:<C2ûý$2ý;221ýA<ý>0Aý3>@Aû\n",
      "\u0010$!ì!*!)%!?ì->!ì)-'%*#ì-ì)+2!êì\u0013!ì*!! ì0+ì-/0ì\"-?0ê\n",
      "\u000f\u0013\u0010Û\u0010\u0019\u0010\u0018\u0014\u0010.Û\u001c-\u0010Û\u0018\u001c\u0016\u0014\u0019\u0012Û\u001cÛ\u0018\u001a!\u0010ÙÛ\u0002\u0010Û\u0019\u0010\u0010\u001fÛ/\u001aÛ\u001c\u001e/Û\u0011\u001c./Ù\n",
      "\u001eÊ\u0000\u000b\u001d\u001eÈ\u000f\u001dÊ\u000b\u001c\u000fÊ\u0007\u000b\u0005\u0001Ê\u000bÊ\u0007\t\u0010\u000fÈÊñ\u000f\u000f\u000f\u000eÊ\u001e\tÊ\u000b\n",
      "·ÿú\fþ÷þöòþ\f¹ú\u000bþ¹öúôò÷ð¹ú¹öø\u000fþ·¹àþ¹÷þþý¹\n",
      "Üàí¨íæíåáíû¨éúí¨åéãáæï¨é¨åçþí¦¨ßí¨æííì¨üç¨éëü¨îéûü¦\n",
      "ËßÜÜÕÜÔÐÜêØéÜÔØÒÐÕÞØÔÖíÜÎÜÕÜÜÛëÖØÚëÝØêë\n",
      "ºÎËËÄËÃÏËÙÇØËÃÇÁÏÄÍÇÃÅÜË½ËÄËËÊÚÅÇÉÚÌÇÙÚ\n",
      "©½ºuº³º²¾ºÈu¶Çºu²¶°¾³¼u¶u²´Ëºsu¬ºu³ºº¹uÉ´u¶¸Éu»¶ÈÉs\n",
      "¬©d©¢©¡­©·d¥¶©d¡¥¯­¢«d¥d¡£º©bd©d¢©©¨d¸£d¥§¸dª¥·¸b\n",
      "S¦S¥SSS©QSSS§S§S¦§Q\n",
      "vBBBBB@ByBBBB@\n",
      "eyv1vv~zv1rv1~r|zx1r1~pv?1hv1vvu1p1rt1wr?\n",
      "The enemies are making a move. We need to act fast.\n",
      "CWT\u001fT]T\\XTb\u001fPaT\u001f\\PZX]V\u001fP\u001f\\^eT\u001d\u001fFT\u001f]TTS\u001fc^\u001fPRc\u001fUPbc\u001d\n",
      "2FC\u000eCLCKGCQ\u000eOPC\u000eKOIGLE\u000eO\u000eKMTC\f\u000e5C\u000eLCCB\u000eRM\u000eOAR\u000eDOQR\f\n",
      "!52ý2;2:62@ý>O2ý:>86;4ý>ý:<C2ûý$2ý;221ýA<ý>0Aý3>@Aû\n",
      "\u0010$!ì!*!)%!?ì->!ì)-'%*#ì-ì)+2!êì\u0013!ì*!! ì0+ì-/0ì\"-?0ê\n",
      "\u000f\u0013\u0010Û\u0010\u0019\u0010\u0018\u0014\u0010.Û\u001c-\u0010Û\u0018\u001c\u0016\u0014\u0019\u0012Û\u001cÛ\u0018\u001a!\u0010ÙÛ\u0002\u0010Û\u0019\u0010\u0010\u001fÛ/\u001aÛ\u001c\u001e/Û\u0011\u001c./Ù\n"
     ]
    }
   ],
   "source": [
    "with open('cipher.txt', 'r') as file:\n",
    "    text = file.read()\n",
    "\n",
    "keys=\"abcdefghijklmnopqrstuvwxyz\"\n",
    "for key in keys:\n",
    "    dec=\"\"\n",
    "    for i, c in enumerate(text):\n",
    "        dec += caesar_inverse_shift(c, key)\n",
    "    dec=decode_b16(dec)\n",
    "    print(dec)    "
   ]
  }
 ],
 "metadata": {
  "kernelspec": {
   "display_name": "Python 3",
   "language": "python",
   "name": "python3"
  },
  "language_info": {
   "codemirror_mode": {
    "name": "ipython",
    "version": 3
   },
   "file_extension": ".py",
   "mimetype": "text/x-python",
   "name": "python",
   "nbconvert_exporter": "python",
   "pygments_lexer": "ipython3",
   "version": "3.11.4"
  }
 },
 "nbformat": 4,
 "nbformat_minor": 2
}
