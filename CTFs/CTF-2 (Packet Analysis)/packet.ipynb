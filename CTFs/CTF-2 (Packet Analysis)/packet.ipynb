{
 "cells": [
  {
   "cell_type": "code",
   "execution_count": 14,
   "metadata": {},
   "outputs": [],
   "source": [
    "import string"
   ]
  },
  {
   "cell_type": "code",
   "execution_count": 15,
   "metadata": {},
   "outputs": [
    {
     "name": "stdout",
     "output_type": "stream",
     "text": [
      "13\n",
      "the flag is picoctf{p33kab00_1_s33_u_deadbeef}\n"
     ]
    }
   ],
   "source": [
    "flag=\"Gur synt vf cvpbPGS{c33xno00_1_f33_h_qrnqorrs}\"\n",
    "\n",
    "\n",
    "shift = ord('p') - ord('c')\n",
    "print(shift)\n",
    "flag = flag.lower()\n",
    "decrypted_flag=\"\"\n",
    "for c  in flag:\n",
    "    if c in string.ascii_lowercase:\n",
    "        decrypted_flag += chr((ord(c) - ord('a') + shift) % 26 + ord('a'))\n",
    "    else:\n",
    "        decrypted_flag += c\n",
    "print(decrypted_flag)"
   ]
  }
 ],
 "metadata": {
  "kernelspec": {
   "display_name": "Python 3",
   "language": "python",
   "name": "python3"
  },
  "language_info": {
   "codemirror_mode": {
    "name": "ipython",
    "version": 3
   },
   "file_extension": ".py",
   "mimetype": "text/x-python",
   "name": "python",
   "nbconvert_exporter": "python",
   "pygments_lexer": "ipython3",
   "version": "3.11.4"
  }
 },
 "nbformat": 4,
 "nbformat_minor": 2
}
